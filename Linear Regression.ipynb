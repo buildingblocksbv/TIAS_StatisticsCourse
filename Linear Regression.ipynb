{
 "cells": [
  {
   "cell_type": "markdown",
   "metadata": {
    "collapsed": true
   },
   "source": [
    "# Predicting housing prices\n",
    "\n",
    "Regression attempts to predict one dependent variable (usually denoted by *Y*) using a series of other changing variables (known as independent variables, usually denoted by *X*).\n",
    "\n",
    "Let's start by importing the libraries needed:\n",
    "- Pandas is a dependency used for easily inspecting and visualizing datasets.\n",
    "- Numpy is a dependency used for numerical calculations. We will use it to generate the \"random\" numbers\n",
    "- Matplotlib is a dependency used for plotting\n",
    "- Seaborn is a dependency used for making plots look pretty, combined with some extra functionalities over matplotlib.\n",
    "- Scipy is a dependency used for scientific computing. We will use for constructing and validating models."
   ]
  },
  {
   "cell_type": "code",
   "execution_count": null,
   "metadata": {},
   "outputs": [],
   "source": [
    "import pandas as pd\n",
    "import numpy as np\n",
    "import matplotlib.pyplot as pl\n",
    "import seaborn as sns\n",
    "from scipy import stats\n",
    "%matplotlib inline"
   ]
  },
  {
   "cell_type": "markdown",
   "metadata": {},
   "source": [
    "Next let us import and check out the data."
   ]
  },
  {
   "cell_type": "code",
   "execution_count": null,
   "metadata": {},
   "outputs": [],
   "source": [
    "USAhousing = pd.read_csv('USA_Housing.csv')\n",
    "USAhousing.head()"
   ]
  },
  {
   "cell_type": "markdown",
   "metadata": {},
   "source": [
    "Now its time to play around with the data and create some visualizations."
   ]
  },
  {
   "cell_type": "code",
   "execution_count": null,
   "metadata": {},
   "outputs": [],
   "source": [
    "sns.pairplot(USAhousing)"
   ]
  },
  {
   "cell_type": "markdown",
   "metadata": {},
   "source": [
    "## Calculating correlation\n",
    "Now that we have a dataset, we can calculate correlation between different features. \n",
    "The correlation coefficient, or simply the correlation, is an index that ranges from -1 to 1. When the value is near zero, there is no linear relationship. As the correlation gets closer to plus or minus one, the relationship is stronger. A value of one (or negative one) indicates a perfect linear relationship between two variables.\n",
    "\n",
    "The formula for correlation between x and y:\n",
    "$$Correlation = \\frac{Cov(x,y)}{\\sigma_x \\sigma_y}$$\n",
    "\n",
    "Let us try to calculate the correlation coefficients between the features 'Price' and 'Area Population' in our housing dataset. How much do these two have in common? Let's find out"
   ]
  },
  {
   "cell_type": "code",
   "execution_count": null,
   "metadata": {},
   "outputs": [],
   "source": [
    "#First we calculate the variance of USAhousing\n",
    "variance = np.var(USAhousing)\n",
    "print(variance)\n"
   ]
  },
  {
   "cell_type": "markdown",
   "metadata": {},
   "source": [
    "Since we want to find out the correlation between 'Price' and 'Area Population', we fill these in for $x$ and $y$ in the correlation formula given above as follows:\n",
    "$$Correlation = \\frac{Cov(Price,Area Population)}{\\sigma_{Price} \\sigma_{Area Population}}$$\n",
    "\n",
    "So to calculate correlation, we now need the covariance between Price and Area Population and the standard deviation($\\sigma$ (sigma)) of Price and Area Population. \n",
    "Lets start with calculating the standard deviations or sigma's of our two features. Here we use the previously calculated variance."
   ]
  },
  {
   "cell_type": "code",
   "execution_count": null,
   "metadata": {},
   "outputs": [],
   "source": [
    "# Since sigma_Price is the square root of the variance of Price we calculate as follows\n",
    "var_price = variance[['Price']]\n",
    "sigma_price = np.sqrt(var_price)\n",
    "# Now we use float to return sigma as a number\n",
    "sigma_price = float(sigma_price)\n",
    "sigma_price"
   ]
  },
  {
   "cell_type": "markdown",
   "metadata": {},
   "source": [
    "Now try and do the same for 'Area Population', fill in the gaps (...) by using the code you learned previously:"
   ]
  },
  {
   "cell_type": "code",
   "execution_count": null,
   "metadata": {},
   "outputs": [],
   "source": [
    "# Calculate sigma for 'Area Population'\n",
    "var_area_population = ...\n",
    "sigma_area_population = ...\n",
    "# Now use float to return sigma as a number\n",
    "sigma_area_population = float(sigma_area_population)\n",
    "sigma_area_population"
   ]
  },
  {
   "cell_type": "markdown",
   "metadata": {},
   "source": [
    "Now we only need the $Cov(Price, Area Population)$. \n",
    "Let's first calculate the covariance."
   ]
  },
  {
   "cell_type": "code",
   "execution_count": null,
   "metadata": {},
   "outputs": [],
   "source": [
    "covariance = USAhousing.cov()\n",
    "covariance"
   ]
  },
  {
   "cell_type": "markdown",
   "metadata": {},
   "source": [
    "Here we see the covariances between all the features in USAhousing.  \n",
    "Now we select the covariance we want, namely the one between Price and Area Population:"
   ]
  },
  {
   "cell_type": "code",
   "execution_count": null,
   "metadata": {},
   "outputs": [],
   "source": [
    "covariance_price_area_population = covariance.loc[['Price'], ['Area Population']].values\n",
    "covariance_price_area_population = float(covariance_price_area_population)\n",
    "covariance_price_area_population"
   ]
  },
  {
   "cell_type": "markdown",
   "metadata": {},
   "source": [
    "Now we have all the building blocks for our correlation let's fill in the formula!  \n",
    "Remember the correlation formula: $Correlation = \\frac{Cov(Price,Area Population)}{\\sigma_{Price} \\sigma_{Area Population}}$"
   ]
  },
  {
   "cell_type": "code",
   "execution_count": null,
   "metadata": {},
   "outputs": [],
   "source": [
    "correlation_price_area_population = covariance_price_area_population/(float(sigma_price)*float(sigma_area_population))\n",
    "float(correlation_price_area_population)"
   ]
  },
  {
   "cell_type": "markdown",
   "metadata": {},
   "source": [
    "Now let's check the other correlations with the comand corr()"
   ]
  },
  {
   "cell_type": "code",
   "execution_count": null,
   "metadata": {},
   "outputs": [],
   "source": [
    "correlation = USAhousing.corr()\n",
    "correlation"
   ]
  },
  {
   "cell_type": "markdown",
   "metadata": {},
   "source": [
    "And now, let’s plot the correlation using a heatmap:"
   ]
  },
  {
   "cell_type": "code",
   "execution_count": null,
   "metadata": {},
   "outputs": [],
   "source": [
    "sns.heatmap(correlation, \n",
    "        xticklabels=correlation.columns,\n",
    "        yticklabels=correlation.columns)"
   ]
  },
  {
   "cell_type": "markdown",
   "metadata": {},
   "source": [
    "# Training a Linear Regression Model\n",
    "Let’s now begin to train out regression model! We will need to first split up our data into an X array that contains the features to train on, and a y array with the target variable, in this case the Price column. "
   ]
  },
  {
   "cell_type": "code",
   "execution_count": null,
   "metadata": {},
   "outputs": [],
   "source": [
    "X = USAhousing[['Avg. Area Income', 'Avg. Area House Age', 'Avg. Area Number of Rooms',\n",
    "                'Area Population']]\n",
    "y = USAhousing['Price']\n",
    "X.head()"
   ]
  },
  {
   "cell_type": "markdown",
   "metadata": {},
   "source": [
    "## Train Test Split\n",
    "Our goal is to create a model that generalises well to new data. Our test set serves as a proxy for new data.Trained data is the data on which we apply the linear regression algorithm. And finally we test that algorithm on the test data.The code for splitting is as follows:"
   ]
  },
  {
   "cell_type": "code",
   "execution_count": null,
   "metadata": {},
   "outputs": [],
   "source": [
    "from sklearn.model_selection import train_test_split\n",
    "X_train, X_test, y_train, y_test = train_test_split(X, y, test_size=0.4, random_state=101)"
   ]
  },
  {
   "cell_type": "markdown",
   "metadata": {},
   "source": [
    "From the above code snippet we can infer that 40% of the data goes to the test data and the rest remains in the training set.\n",
    "\n",
    "## Creating and Training the Model\n",
    "Let us import the LinearRegression from sklearn and fit the linear regression on the training dataset."
   ]
  },
  {
   "cell_type": "code",
   "execution_count": null,
   "metadata": {},
   "outputs": [],
   "source": [
    "from sklearn.linear_model import LinearRegression\n",
    "lm = LinearRegression()\n",
    "lm.fit(X_train,y_train)"
   ]
  },
  {
   "cell_type": "markdown",
   "metadata": {},
   "source": [
    "Congratulations! You have just trained your first model! Now let's check its coefficients..."
   ]
  },
  {
   "cell_type": "code",
   "execution_count": null,
   "metadata": {},
   "outputs": [],
   "source": [
    "names = ['Avg. Area Income', 'Avg. Area House Age', 'Avg. Area Number of Rooms',\n",
    "                'Area Population']\n",
    "\n",
    "coef = pd.DataFrame(columns=names)\n",
    "coef.loc[0] = lm.coef_\n",
    "coef"
   ]
  },
  {
   "cell_type": "markdown",
   "metadata": {},
   "source": [
    "Here we see the regression coefficients for the different features. A 1 dollar increase in average area income, for example, increases the housing price with about 21.53 dollars. Keep in mind though! We are talking about average $area$ income, so for it to increase by 1 dollar the whole neighbourhood needs to earn 1 dollar more on average.  \n",
    "\n",
    "The same holds for house age and number of rooms. \n",
    "\n",
    "An important observation here is that all the coefficients are positive. What does this mean?  \n",
    "Do the features have a positive influence on housing prices or a negative?  \n",
    "E.g. Do you expect a higher area income would have a postive or negative effect on housing prices in this area? Does this expectation match with the coefficient given?\n",
    "\n",
    "## Predicting the test set\n",
    "Now let's predict! Predict using the test set."
   ]
  },
  {
   "cell_type": "code",
   "execution_count": null,
   "metadata": {},
   "outputs": [],
   "source": [
    "predictions = lm.predict(X_test)\n",
    "predictions"
   ]
  },
  {
   "cell_type": "markdown",
   "metadata": {},
   "source": [
    "Let's visualise the predicitons."
   ]
  },
  {
   "cell_type": "code",
   "execution_count": null,
   "metadata": {},
   "outputs": [],
   "source": [
    "plt.scatter(y_test, predictions)\n",
    "plt.xlabel(\"Actual Price\")\n",
    "plt.ylabel(\"Predicted Price\")\n",
    "plt.show()"
   ]
  },
  {
   "cell_type": "markdown",
   "metadata": {
    "collapsed": true
   },
   "source": [
    "## Cross-validating your predictions\n"
   ]
  },
  {
   "cell_type": "markdown",
   "metadata": {},
   "source": [
    "Now we have our predictions it is time to check how accurate these are by cross-validating.  \n",
    "Let's start with importing the necessities."
   ]
  },
  {
   "cell_type": "code",
   "execution_count": null,
   "metadata": {},
   "outputs": [],
   "source": [
    "# Necessary imports: \n",
    "from sklearn.cross_validation import cross_val_score, cross_val_predict\n",
    "from sklearn import metrics"
   ]
  },
  {
   "cell_type": "markdown",
   "metadata": {},
   "source": [
    "Now we perform a 6-fold cross validation."
   ]
  },
  {
   "cell_type": "code",
   "execution_count": null,
   "metadata": {},
   "outputs": [],
   "source": [
    "# Perform 6-fold cross validation\n",
    "scores = cross_val_score(lm, X, y, cv=6)\n",
    "print ('Cross-validated scores Linear Regression:', scores)\n",
    "# Calculate the mean accuracy\n",
    "np.mean(scores)"
   ]
  },
  {
   "cell_type": "markdown",
   "metadata": {},
   "source": [
    "Our cross-validation score for Linear Regression is 0.917.  \n",
    "Now let's see if we can predict housing prices better using another method, the Random Forest."
   ]
  },
  {
   "cell_type": "code",
   "execution_count": null,
   "metadata": {},
   "outputs": [],
   "source": [
    "# Import the model we are using\n",
    "from sklearn.ensemble import RandomForestRegressor\n",
    "# Instantiate model with 1000 decision trees\n",
    "rf = RandomForestRegressor(n_estimators = 1000, random_state = 42)\n",
    "# Train the model on training data\n",
    "rf.fit(X_train, y_train)"
   ]
  },
  {
   "cell_type": "markdown",
   "metadata": {},
   "source": [
    "We have now trained a Random Forest. Like Linear Regression, let's cross-validate and compare!"
   ]
  },
  {
   "cell_type": "code",
   "execution_count": null,
   "metadata": {},
   "outputs": [],
   "source": [
    "# Perform 6-fold cross validation\n",
    "scores = cross_val_score(rf, X_test, y_test, cv=6)\n",
    "print ('Cross-validated scores Random Forest:', scores)"
   ]
  },
  {
   "cell_type": "markdown",
   "metadata": {},
   "source": [
    "Which method would you choose? The Linear Regression or the Random Forest? And why?"
   ]
  }
 ],
 "metadata": {
  "kernelspec": {
   "display_name": "Python 3",
   "language": "python",
   "name": "python3"
  },
  "language_info": {
   "codemirror_mode": {
    "name": "ipython",
    "version": 3
   },
   "file_extension": ".py",
   "mimetype": "text/x-python",
   "name": "python",
   "nbconvert_exporter": "python",
   "pygments_lexer": "ipython3",
   "version": "3.6.6"
  }
 },
 "nbformat": 4,
 "nbformat_minor": 2
}
