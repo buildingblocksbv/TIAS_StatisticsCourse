{
 "cells": [
  {
   "cell_type": "markdown",
   "metadata": {},
   "source": [
    "# 1. Coin tossing\n",
    "## First we need to make sure that we have all required dependencies installed. \n",
    "#### Numpy is a dependency used for numerical calculations\n",
    "#### Matplotlib is a dependecy used for plotting"
   ]
  },
  {
   "cell_type": "code",
   "execution_count": null,
   "metadata": {},
   "outputs": [],
   "source": [
    "# Run me to install dependencies\n",
    "!pip install numpy\n",
    "!pip install matplotlib"
   ]
  },
  {
   "cell_type": "markdown",
   "metadata": {},
   "source": [
    "## Import and set Matplotlib settings"
   ]
  },
  {
   "cell_type": "code",
   "execution_count": 1,
   "metadata": {},
   "outputs": [],
   "source": [
    "# Run me for imports\n",
    "import numpy as np\n",
    "import matplotlib.pyplot as plt\n",
    "\n",
    "# Update matplotlib font size\n",
    "plt.rcParams.update({'font.size': 16})"
   ]
  },
  {
   "cell_type": "markdown",
   "metadata": {},
   "source": [
    "## Set Parameters"
   ]
  },
  {
   "cell_type": "code",
   "execution_count": 53,
   "metadata": {},
   "outputs": [],
   "source": [
    "# Experiment parameters\n",
    "n_repetitions = 2000\n",
    "n_coins = 100\n",
    "p = 0.5"
   ]
  },
  {
   "cell_type": "markdown",
   "metadata": {},
   "source": [
    "## Sample and save the fraction of tails"
   ]
  },
  {
   "cell_type": "code",
   "execution_count": 54,
   "metadata": {},
   "outputs": [],
   "source": [
    "# Working variable for the fraction of tails\n",
    "fraction_tails = [None]*n_repetitions\n",
    "\n",
    "# Throw coins: Heads is 0, tails is 1.\n",
    "for i in range(n_repetitions):\n",
    "    # Flip n coins\n",
    "    sample = np.random.randint(0, 2, n_coins)\n",
    "    fraction_tails[i] = sum(sample)/len(sample)    \n"
   ]
  },
  {
   "cell_type": "markdown",
   "metadata": {},
   "source": [
    "## Show a single sample"
   ]
  },
  {
   "cell_type": "code",
   "execution_count": 55,
   "metadata": {},
   "outputs": [
    {
     "data": {
      "image/png": "[encoded data removed]",
      "text/plain": [
       "<Figure size 432x288 with 1 Axes>"
      ]
     },
     "metadata": {
      "needs_background": "light"
     },
     "output_type": "display_data"
    }
   ],
   "source": [
    "# Plot the last run (via global fraction_tails)\n",
    "def plot_single_run():\n",
    "    plt.grid()\n",
    "    plt.bar(x = [0,1], height = [1 - fraction_tails[-1], fraction_tails[-1]])\n",
    "    plt.gca().set_xticks([0,1])\n",
    "    plt.gca().set_xticklabels((\"Heads\", \"Tails\"))\n",
    "    plt.ylabel(\"Fraction of observations\")\n",
    "    plt.show()\n",
    "\n",
    "# Plot last run\n",
    "plot_single_run()"
   ]
  },
  {
   "cell_type": "markdown",
   "metadata": {},
   "source": [
    "## Plot the fractions of all runs"
   ]
  },
  {
   "cell_type": "code",
   "execution_count": 71,
   "metadata": {},
   "outputs": [
    {
     "data": {
      "image/png": "[encoded data removed]",
      "text/plain": [
       "<Figure size 432x288 with 1 Axes>"
      ]
     },
     "metadata": {
      "needs_background": "light"
     },
     "output_type": "display_data"
    }
   ],
   "source": [
    "# Plot parameters\n",
    "n_bins = \"auto\"\n",
    "\n",
    "# Show all runs combined in a histogram\n",
    "def plot_all_runs(data, x_label, y_label, n_bins):\n",
    "    plt.hist(data, bins=n_bins)\n",
    "    plt.xlabel(x_label)\n",
    "    plt.ylabel(y_label)\n",
    "    plt.show()\n",
    "    \n",
    "# Plot the data\n",
    "plot_all_runs(fraction_tails, \"Fraction of tails\", \"Count\", n_bins)\n"
   ]
  },
  {
   "cell_type": "markdown",
   "metadata": {},
   "source": [
    "# 2. Dice"
   ]
  },
  {
   "cell_type": "markdown",
   "metadata": {},
   "source": [
    "## Specify the number of throws"
   ]
  },
  {
   "cell_type": "code",
   "execution_count": 81,
   "metadata": {},
   "outputs": [],
   "source": [
    "n_throws = 5000\n",
    "show_value = False  # Show the values of the single throws in the next block of code"
   ]
  },
  {
   "cell_type": "markdown",
   "metadata": {},
   "source": [
    "## Throw the dice"
   ]
  },
  {
   "cell_type": "code",
   "execution_count": 82,
   "metadata": {
    "scrolled": true
   },
   "outputs": [],
   "source": [
    "# Working variable for holding the sum values\n",
    "dice_sum = [None]*n_throws\n",
    "\n",
    "# Throw dice\n",
    "for i in range(n_throws):\n",
    "    # Throw 2 dice\n",
    "    throw = np.random.randint(0, 7, 2)\n",
    "    dice_sum[i] = sum(throw)\n",
    "    \n",
    "    # Show value (if opted)\n",
    "    if show_value:\n",
    "        print(dice_sum[i])"
   ]
  },
  {
   "cell_type": "markdown",
   "metadata": {},
   "source": [
    "## Plot throws"
   ]
  },
  {
   "cell_type": "code",
   "execution_count": 83,
   "metadata": {},
   "outputs": [
    {
     "data": {
      "image/png": "[encoded data removed]",
      "text/plain": [
       "<Figure size 432x288 with 1 Axes>"
      ]
     },
     "metadata": {
      "needs_background": "light"
     },
     "output_type": "display_data"
    }
   ],
   "source": [
    "# Plot parameters\n",
    "n_bins = \"auto\"\n",
    "\n",
    "# Plot the data\n",
    "plot_all_runs(dice_sum, \"Dice sum\", \"Fraction of throws\", n_bins)"
   ]
  }
 ],
 "metadata": {
  "kernelspec": {
   "display_name": "Python 3",
   "language": "python",
   "name": "python3"
  },
  "language_info": {
   "codemirror_mode": {
    "name": "ipython",
    "version": 3
   },
   "file_extension": ".py",
   "mimetype": "text/x-python",
   "name": "python",
   "nbconvert_exporter": "python",
   "pygments_lexer": "ipython3",
   "version": "3.6.6"
  }
 },
 "nbformat": 4,
 "nbformat_minor": 2
}
