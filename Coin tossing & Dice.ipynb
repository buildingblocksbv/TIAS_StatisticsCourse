{
 "cells": [
  {
   "cell_type": "markdown",
   "metadata": {},
   "source": [
    "# 1. Dice\n",
    "\n",
    "We start the Python programming practical with some Python basics. In this first assignment, we will learn how to generate \"random\" numbers that mimic throwing some dice, and get some information from these throws. Luckily nowadays, and in particular with Python, it is really easy to generate these \"random\" numbers.\n",
    "\n",
    "First we need to make sure that we have all required dependencies imported:\n",
    "\n",
    "- Numpy is a dependency used for numerical calculations. We will use it to generate the \"random\" numbers\n",
    "- Matplotlib is a dependecy used for plotting\n",
    "- Scipy is a dependency for scientific computing. We will use it in part 2 for doing a statistical test"
   ]
  },
  {
   "cell_type": "code",
   "execution_count": null,
   "metadata": {},
   "outputs": [],
   "source": [
    "# Run me for imports. After selecting this cell, you can run this cell and go \n",
    "# to the next cell by pressing <Shift> + <Enter>\n",
    "import numpy as np\n",
    "import matplotlib.pyplot as plt\n",
    "from scipy import stats"
   ]
  },
  {
   "cell_type": "markdown",
   "metadata": {},
   "source": [
    "Next, we will set the parameters for our experiment:\n",
    "- n_dice: Number of dice we will throw"
   ]
  },
  {
   "cell_type": "code",
   "execution_count": null,
   "metadata": {},
   "outputs": [],
   "source": [
    "# Set parameter\n",
    "n_dice = 2"
   ]
  },
  {
   "cell_type": "markdown",
   "metadata": {},
   "source": [
    "In order to throw the actual dice, we define a function to do so. We can just throw n_dice once by calling the function once, but it also allows us to easily repeat throwing n_dice multiple times. Note that when you define a Python function, you don't yet run it. You run it by explicitely calling the function, e.g. by running the code \"throw_dice(5)\""
   ]
  },
  {
   "cell_type": "code",
   "execution_count": null,
   "metadata": {
    "scrolled": true
   },
   "outputs": [],
   "source": [
    "# Function to throw n dice\n",
    "def throw_dice(n):\n",
    "    # Throw 2 dice\n",
    "    throw = np.random.randint(1, 7, n)\n",
    "    dice_sum = sum(throw)\n",
    "    \n",
    "    # Return dice sum\n",
    "    return dice_sum"
   ]
  },
  {
   "cell_type": "markdown",
   "metadata": {},
   "source": [
    "Let us throw some actual dice!"
   ]
  },
  {
   "cell_type": "code",
   "execution_count": null,
   "metadata": {},
   "outputs": [],
   "source": [
    "# Throw some dice! Repeat me by selecting this cell and press \n",
    "# <ctrl> + <Enter>\n",
    "dice_sum = throw_dice(n_dice)\n",
    "print(dice_sum)"
   ]
  },
  {
   "cell_type": "markdown",
   "metadata": {},
   "source": [
    "Instead of just doing one single throw with n_dice number of dice, we would like to do multiple runs at once. We can do this by calling our function throw_dice multiple times. \n",
    "\n",
    "Lets first define parameters for this. For convenience, we can override our previous value of n_dice. "
   ]
  },
  {
   "cell_type": "code",
   "execution_count": null,
   "metadata": {},
   "outputs": [],
   "source": [
    "# Parameters\n",
    "n_dice = 2\n",
    "n_repetitions = 10\n",
    "print_outcome = True # True or False. Beware that printing is slow!"
   ]
  },
  {
   "cell_type": "markdown",
   "metadata": {},
   "source": [
    "Call the dice throwing function n_repetitions number of times"
   ]
  },
  {
   "cell_type": "code",
   "execution_count": null,
   "metadata": {
    "scrolled": true
   },
   "outputs": [],
   "source": [
    "# List to save the outcome for all iterations\n",
    "dice_sums = [None]*n_repetitions\n",
    "\n",
    "# Call the function \n",
    "for i in range(n_repetitions):\n",
    "    dice_sums[i] = throw_dice(n_dice)\n",
    "    \n",
    "    # Show output\n",
    "    if print_outcome:\n",
    "        print(dice_sums[i])"
   ]
  },
  {
   "cell_type": "markdown",
   "metadata": {},
   "source": [
    "After throwing some dice, we would like to plot the results in a histogram to see what our results look like. To do this, we again define a function, based on the matplotlib library. This allows us for making plots again later in a single line (namely by calling this function)."
   ]
  },
  {
   "cell_type": "code",
   "execution_count": null,
   "metadata": {},
   "outputs": [],
   "source": [
    "# Show all runs combined in a histogram\n",
    "def make_histogram(data, x_label, y_label):\n",
    "    plt.hist(data, bins=\"auto\")\n",
    "    plt.xlabel(x_label)\n",
    "    plt.ylabel(y_label)\n",
    "    plt.show()\n"
   ]
  },
  {
   "cell_type": "markdown",
   "metadata": {},
   "source": [
    "Use our function to show the results in a histogram"
   ]
  },
  {
   "cell_type": "code",
   "execution_count": null,
   "metadata": {},
   "outputs": [],
   "source": [
    "make_histogram(dice_sums, \"Dice sum\", \"Number of throws\")"
   ]
  },
  {
   "cell_type": "markdown",
   "metadata": {},
   "source": [
    "Based on the Central Limit Theorem (often recognized as the most important theorem in statistics), we know that given enough samples drawn (n_dice) and repetitions, the plot above will approach the Normal distribution (recognizable by the bell-shaped curve). Can you reproduce it? And could you give an intuitive explanation for this result?"
   ]
  },
  {
   "cell_type": "markdown",
   "metadata": {},
   "source": [
    "# 2. Coin tossing\n",
    "\n",
    "In this example we will mimic tossing a coin, which will fall on either heads or tail. We will start by tossing just a single sequence of coins (e.g. 100 coins). After that, we will do this n_repetitions (e.g. 50) number of times (e.g. we throw 100 coins, and repeat that 50 times). Using this, we can test if the coin is fair (probability of heads = probability of tails = 0.5) or biased (probability of heads != probability of tails)."
   ]
  },
  {
   "cell_type": "markdown",
   "metadata": {},
   "source": [
    "First, we will set parameters that are used throughout the experiments. \n",
    "\n",
    "- n_coins: The number of coins you toss in a single repetition\n",
    "- p: The probability of the coin tossed as tails"
   ]
  },
  {
   "cell_type": "code",
   "execution_count": null,
   "metadata": {},
   "outputs": [],
   "source": [
    "# Experiment parameters\n",
    "n_coins = 5000\n",
    "p = 0.5"
   ]
  },
  {
   "cell_type": "markdown",
   "metadata": {},
   "source": [
    "We will define a function for tossing n coins. We can just toss n_coins once, but it also allows us to easily repeat tossing n_coins multiple times."
   ]
  },
  {
   "cell_type": "code",
   "execution_count": null,
   "metadata": {},
   "outputs": [],
   "source": [
    "# Throw coins: Heads is 0, tails is 1.\n",
    "def toss_coins(n):\n",
    "    # Flip n coins\n",
    "    sample = np.random.randint(0, 2, n) # We could use np.random.binomial(n,p) here as well!\n",
    "    fraction_tails = sum(sample)/len(sample)    \n",
    "\n",
    "    # Return fraction of tails tossed\n",
    "    return fraction_tails"
   ]
  },
  {
   "cell_type": "markdown",
   "metadata": {},
   "source": [
    "Call the function we have just defined once"
   ]
  },
  {
   "cell_type": "code",
   "execution_count": null,
   "metadata": {},
   "outputs": [],
   "source": [
    "# Call the function we just defined\n",
    "fraction_of_tails = toss_coins(n_coins)\n",
    "print(\"Fraction of heads: \", 1 - fraction_of_tails)\n",
    "print(\"Fraction of tails: \", fraction_of_tails)"
   ]
  },
  {
   "cell_type": "markdown",
   "metadata": {},
   "source": [
    "We again will make a function for plotting. This time it will be for making a bar chart given some fraction of heads tossed."
   ]
  },
  {
   "cell_type": "code",
   "execution_count": null,
   "metadata": {},
   "outputs": [],
   "source": [
    "# Matplotlib font size parameter\n",
    "plt.rcParams.update({'font.size': 20})\n",
    "\n",
    "# Construct a bar plot for our heads and tails\n",
    "def head_tails_bar_chart(y, x_labels):\n",
    "    plt.figure(figsize=(6,6))\n",
    "    plt.grid()\n",
    "    plt.bar(x = [0,1], height = [1 - y, y])\n",
    "    plt.gca().set_xticks([0,1])\n",
    "    plt.gca().set_xticklabels(x_labels)\n",
    "    #plt.gca().set_xticklabels((\"Heads\", \"Tails\"))\n",
    "    plt.ylabel(\"Fraction of observations\")\n",
    "    plt.show()\n",
    "\n",
    "# Plot the result of your experiment\n",
    "head_tails_bar_chart(fraction_of_tails, [\"Heads\", \"Tails\"])"
   ]
  },
  {
   "cell_type": "markdown",
   "metadata": {},
   "source": [
    "Although the plot is useful to get some insight, we cannot determine whether we have a statistically insignificant non-fair (biased) coin. We can test this using a binomial test. \n",
    "\n",
    "Recall that we want to test whether the coin is fair or not. If it's fair, it should have probability p=0.5. If the coin is unfair (biased), we either have p>0.5 or p<0.5. Therefore we construct the null hypothesis H0: p = 0.5, and the alternative hypothesis H1: p != 0.5 (unequal to). The value 0.5 is captured by the variable p0, representing the value of p under the null hypothesis.\n",
    "\n",
    "We have the following parameters:\n",
    "- alpha: significance level of our test; the probability of rejecting the null hypothesis when it's true\n",
    "- p0: probability of the coin being tossed as tails under H0. "
   ]
  },
  {
   "cell_type": "code",
   "execution_count": null,
   "metadata": {},
   "outputs": [],
   "source": [
    "# Parameters\n",
    "alpha = 0.05\n",
    "p0 = 0.5"
   ]
  },
  {
   "cell_type": "markdown",
   "metadata": {},
   "source": [
    "Again we will make a function. This time for determining if some sequence of heads and tails is statistically significantly biased. We will use Scipy's stats.binom_test() function for this. By default, this function performs a two-tailed test. Hence, we test for any significant difference, and we do not care if the coin has statistically more heads than tails or vice versa."
   ]
  },
  {
   "cell_type": "code",
   "execution_count": null,
   "metadata": {},
   "outputs": [],
   "source": [
    "# Test if the throws are fair or not\n",
    "def is_statistically_different(x, my_p0, my_alpha):\n",
    "    # Perform two-sided test\n",
    "    p_val = stats.binom_test(x, p=p0)\n",
    "    \n",
    "    # Return result\n",
    "    if p_val < my_alpha:\n",
    "        return True\n",
    "    else:\n",
    "        return False\n"
   ]
  },
  {
   "cell_type": "markdown",
   "metadata": {},
   "source": [
    "Perform the test to see if there is a statistically significant difference between heads and tails in the sample."
   ]
  },
  {
   "cell_type": "code",
   "execution_count": null,
   "metadata": {},
   "outputs": [],
   "source": [
    "# Save for test input\n",
    "n_tails = int(fraction_of_tails*n_coins)\n",
    "n_heads = n_coins - n_tails\n",
    "sample_result = [n_heads, n_tails]\n",
    "\n",
    "# Check if the outcomes of heads and tails are statistically different at given alpha\n",
    "print(is_statistically_different(sample_result, p0, alpha))\n"
   ]
  },
  {
   "cell_type": "markdown",
   "metadata": {},
   "source": [
    "Using our function definition, we can also repeat the experiment a number of times:\n",
    "- n_repetitions: Number of times the n_coins are tossed."
   ]
  },
  {
   "cell_type": "code",
   "execution_count": null,
   "metadata": {},
   "outputs": [],
   "source": [
    "# Set parameters\n",
    "n_repetitions = 1000\n",
    "n_coins = 1000\n",
    "p0 = 0.5\n",
    "alpha = 0.05\n",
    "\n",
    "# Working variable for the samples to see if we are statistically different\n",
    "statistically_different = [None]*n_repetitions\n",
    "\n",
    "# Call the function n_reptitions number of times\n",
    "for i in range(n_repetitions):\n",
    "    # Toss coins\n",
    "    fraction_tails = toss_coins(n_coins)\n",
    "    \n",
    "    # Prepare input\n",
    "    n_tails = int(fraction_tails*n_coins)\n",
    "    n_heads = n_coins - n_tails\n",
    "    sample_result = [n_heads, n_tails]\n",
    "    \n",
    "    # Save outcome\n",
    "    statistically_different[i] = is_statistically_different(sample_result, p0, alpha)\n",
    "    "
   ]
  },
  {
   "cell_type": "markdown",
   "metadata": {},
   "source": [
    "Given your significance level alpha, how much iterations do you expect to have a statistically significant difference? What could you do to reduce this? And by how much do you expect to reduce it? "
   ]
  },
  {
   "cell_type": "code",
   "execution_count": null,
   "metadata": {},
   "outputs": [],
   "source": [
    "print(\"Total number of statistically different samples: \", sum(statistically_different))\n",
    "print(\"Total number of non-statistically different samples: \", len(statistically_different) - sum(statistically_different))\n"
   ]
  },
  {
   "cell_type": "markdown",
   "metadata": {},
   "source": [
    "Lastly, we can also investigate this result visually by calling the plot we constructed earlier"
   ]
  },
  {
   "cell_type": "code",
   "execution_count": null,
   "metadata": {},
   "outputs": [],
   "source": [
    "# Prepare data\n",
    "y = sum(statistically_different)/len(statistically_different)\n",
    "\n",
    "# Call plot\n",
    "head_tails_bar_chart(y, [\"H0 not rejected\", \"H0 rejected\"])"
   ]
  },
  {
   "cell_type": "markdown",
   "metadata": {},
   "source": [
    "For how many repetitions do you expect to reject the null hypothesis? And for how much did you do so?"
   ]
  }
 ],
 "metadata": {
  "kernelspec": {
   "display_name": "Python 3",
   "language": "python",
   "name": "python3"
  },
  "language_info": {
   "codemirror_mode": {
    "name": "ipython",
    "version": 3
   },
   "file_extension": ".py",
   "mimetype": "text/x-python",
   "name": "python",
   "nbconvert_exporter": "python",
   "pygments_lexer": "ipython3",
   "version": "3.6.6"
  }
 },
 "nbformat": 4,
 "nbformat_minor": 2
}
